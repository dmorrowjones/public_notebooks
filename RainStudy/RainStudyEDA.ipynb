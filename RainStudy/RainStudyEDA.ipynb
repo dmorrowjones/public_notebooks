{
 "cells": [
  {
   "cell_type": "markdown",
   "metadata": {},
   "source": [
    "## Rain EDA Notebook\n",
    "### Dylan M Jones\n",
    "### 2/11/2021"
   ]
  },
  {
   "cell_type": "markdown",
   "metadata": {},
   "source": [
    "This notebook is to examine the structure of a weather dataset from kaggle. It contains the weather data from various stations in Australia, with the objective of building a model to predict precipitation the following day.\n",
    "\n",
    "This dataset looks fun, because we can start with initial assumptions and check whether they hold true with exploration of the variables. It also lays a foundation for possibly asking new questions using the data, or including new external data to the set as we dive deeper and which to enhance the performance of the model."
   ]
  },
  {
   "cell_type": "markdown",
   "metadata": {},
   "source": [
    "## Table of Contents\n",
    "\n",
    "1. [Inspiration](#1)"
   ]
  },
  {
   "cell_type": "markdown",
   "metadata": {},
   "source": [
    "## 1. Inspiration <a class=\"anchor\" id = \"1\"></a>"
   ]
  },
  {
   "cell_type": "code",
   "execution_count": null,
   "metadata": {},
   "outputs": [],
   "source": [
    "## Initial library setup\n",
    "\n",
    "import numpy as np \n",
    "import matplotlib.pyplot as plt \n",
    "import seaborn as sns\n",
    "import pandas as pd\n",
    "from sklearn.model_selection import train_test_split \n",
    "%matplotlib inline\n",
    "\n",
    "\n",
    "## Load data\n",
    "rawWeather = pd.read_csv(\"weatherAUS.csv\")\n"
   ]
  },
  {
   "cell_type": "code",
   "execution_count": null,
   "metadata": {},
   "outputs": [],
   "source": [
    "## Check table\n",
    "rawWeather['Date'] = pd.to_datetime(rawWeather['Date'])\n",
    "rawWeather['Month'] = rawWeather['Date'].dt.month\n",
    "rawWeather['Day'] = rawWeather['Date'].dt.day\n",
    "rawWeather['Year'] = rawWeather['Date'].dt.year\n",
    "rawWeather['Quarter'] = rawWeather['Date'].dt.quarter\n",
    "rawWeather['Weekday'] = rawWeather['Date'].dt.strftime('%A')\n",
    "rawWeather['WeekNumber'] = rawWeather['Date'].dt.strftime('%U')\n",
    "\n",
    "print(rawWeather.shape)\n",
    "print(rawWeather.columns)\n",
    "# print(rawWeather.info())"
   ]
  },
  {
   "cell_type": "markdown",
   "metadata": {},
   "source": [
    "This looks promising. We can see that there are 145,460 rows, and 23 columns. 22 columns are fields we can use to try and predict the last column ('RainTomorrow').\n",
    "\n",
    "\n",
    "Before we move much further in the EDA, we should split the dataset to ensure a validation"
   ]
  },
  {
   "cell_type": "code",
   "execution_count": null,
   "metadata": {},
   "outputs": [],
   "source": [
    "X_train, X_test, y_train, y_test = train_test_split(rawWeather.loc[:,rawWeather.columns != 'RainTomorrow'],rawWeather.loc[:,'RainTomorrow'], test_size = 0.3, random_state = 42)\n",
    "\n",
    "print('X_train is: ' + str(X_train.shape))\n",
    "print('y_train is: ' + str(y_train.shape))\n",
    "print('X_test is: ' + str(X_test.shape))\n",
    "print('y_test is: ' + str(y_test.shape))"
   ]
  },
  {
   "cell_type": "markdown",
   "metadata": {},
   "source": [
    "# Data Exploration"
   ]
  },
  {
   "cell_type": "markdown",
   "metadata": {},
   "source": [
    "## Univariate analysis"
   ]
  },
  {
   "cell_type": "markdown",
   "metadata": {},
   "source": [
    "## Bivariate Analysis"
   ]
  },
  {
   "cell_type": "markdown",
   "metadata": {},
   "source": [
    "## Multivariate Analysis"
   ]
  },
  {
   "cell_type": "markdown",
   "metadata": {},
   "source": [
    "# Feature Engineering"
   ]
  },
  {
   "cell_type": "markdown",
   "metadata": {},
   "source": [
    "## Numerical Feature Engineering: Missing Values and Outliers"
   ]
  },
  {
   "cell_type": "markdown",
   "metadata": {},
   "source": [
    "## Categorical Feature Engineering: Missing Values and One-hot enoding"
   ]
  },
  {
   "cell_type": "markdown",
   "metadata": {},
   "source": [
    "# Model Training and Output"
   ]
  },
  {
   "cell_type": "markdown",
   "metadata": {},
   "source": [
    "# Model Performance Assessment"
   ]
  },
  {
   "cell_type": "markdown",
   "metadata": {},
   "source": [
    "## Accuracy vs Recall vs Specificity"
   ]
  },
  {
   "cell_type": "markdown",
   "metadata": {},
   "source": [
    "## Confusion Matrix"
   ]
  },
  {
   "cell_type": "markdown",
   "metadata": {},
   "source": [
    "## ROC Curve and AUC"
   ]
  },
  {
   "cell_type": "markdown",
   "metadata": {},
   "source": [
    "# Enhancing the Dataset with Geocoding and topology data"
   ]
  },
  {
   "cell_type": "code",
   "execution_count": null,
   "metadata": {},
   "outputs": [],
   "source": [
    "## Geocoding the Locations"
   ]
  },
  {
   "cell_type": "code",
   "execution_count": null,
   "metadata": {},
   "outputs": [],
   "source": [
    "## Gathing topology features"
   ]
  },
  {
   "cell_type": "code",
   "execution_count": null,
   "metadata": {},
   "outputs": [],
   "source": [
    "## New Feature analysis"
   ]
  },
  {
   "cell_type": "code",
   "execution_count": null,
   "metadata": {},
   "outputs": [],
   "source": [
    "## New model training and output"
   ]
  },
  {
   "cell_type": "code",
   "execution_count": null,
   "metadata": {},
   "outputs": [],
   "source": [
    "## Conclusions and Future Directions"
   ]
  },
  {
   "cell_type": "markdown",
   "metadata": {},
   "source": [
    "trainSet = pd.concat([X_train, y_train], axis = 1)\n",
    "# print(trainSet.info())\n",
    "\n",
    "# plt.figure(figsize = (14,5) )\n",
    "# sns.barplot(trainSet['Quarter'],trainSet['Rainfall'], hue = trainSet['Location'], alpha = 0.7)\n",
    "# plt.show()"
   ]
  },
  {
   "cell_type": "markdown",
   "metadata": {},
   "source": [
    "Interesting. Just looking at a handful of locations, we can see that rainfall is seasonal, with more rain in the late Spring/eary Summer (Nov and Dec), and some occasional deluges in March and June for Wollongong. Ballarat and Melbourne are relatively far South in the state of Victoria: in an arid, temparate region of Australia. Wollongong is in New South Whales, which is slightly more tropical, but not as much as the Northern coast of the country.\n",
    "\n",
    "Let's run a pairplot on this sparse dataset to see what fields interact with each other, and with the target variable."
   ]
  },
  {
   "cell_type": "code",
   "execution_count": null,
   "metadata": {},
   "outputs": [],
   "source": [
    "smallW = trainSet[trainSet['Location'].isin(['Melbourne','Wollongong','Ballarat'])]\n",
    "\n",
    "\n",
    "\n",
    "smallW['LogRainfall'] = np.log(smallW['Rainfall'])\n",
    "\n",
    "feature_list = ['Location','LogRainfall','Sunshine','MaxTemp','Month','RainTomorrow']\n",
    "\n",
    "plt.figure(figsize = (14,14 ) )\n",
    "sns.pairplot(smallW[feature_list], hue = \"RainTomorrow\")\n",
    "plt.show()"
   ]
  },
  {
   "cell_type": "markdown",
   "metadata": {},
   "source": [
    "## Basic Modeling and Results\n",
    "Now that we\\'ve taken a look at the core features, and placed some transformations to acheive normal distributions, we can run a decision tree-based classifier on the data to see how well these features predict for rain the next day.\n",
    "\n",
    "We won\\'t focus too much on tuning hyperparameters, or aggregating across models, as our goal is to identify external data that might improve the dataset with better features.\n",
    "\n",
    "Several people on Kaggle have acheived an accuracy of about 86% using Random Forests on this dataset, so let's start there."
   ]
  },
  {
   "cell_type": "markdown",
   "metadata": {},
   "source": [
    "## Providing context to locations\n",
    "Despite the wealth of atmospheric data gathered from these stations, there is nothing in her that describes the physical location of these places. Our exploration reveals large differences in rainfall based on region, with the tropical stations collecting far more rain than the arid stations. While a basic mapping of location to State or "
   ]
  }
 ],
 "metadata": {
  "language_info": {
   "name": "python",
   "codemirror_mode": {
    "name": "ipython",
    "version": 3
   },
   "version": "3.8.1-final"
  },
  "orig_nbformat": 2,
  "file_extension": ".py",
  "mimetype": "text/x-python",
  "name": "python",
  "npconvert_exporter": "python",
  "pygments_lexer": "ipython3",
  "version": 3,
  "kernelspec": {
   "name": "python38164bitbedf65a3a0e14a46aa3fce0b55e28aa5",
   "display_name": "Python 3.8.1 64-bit"
  }
 },
 "nbformat": 4,
 "nbformat_minor": 2
}
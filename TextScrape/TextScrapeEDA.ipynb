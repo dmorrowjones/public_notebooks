{
 "cells": [
  {
   "attachments": {},
   "cell_type": "markdown",
   "metadata": {},
   "source": [
    "## Test Scrape Notebook"
   ]
  },
  {
   "cell_type": "code",
   "execution_count": 20,
   "metadata": {},
   "outputs": [],
   "source": [
    "## Import library as establish paths\n",
    "from pypdf import PdfReader\n",
    "import translators as ts\n",
    "import pandas as pd\n",
    "import nltk\n",
    "from docx import Document\n",
    "\n",
    "\n",
    "headername = r\"Output File\"\n",
    "\n",
    "filename = 'source_file'\n",
    "\n",
    "source_pdf_input_path = r'./input/' + filename + r'.pdf'\n",
    "source_text_output_path = r'./output/' + filename + '.txt'\n",
    "trans_table_output_path = r'./output/' + filename + '_translation.csv'\n",
    "trans_text_output_path = r'./output/' + filename + '_translated.txt'\n",
    "trans_doc_output_path = r'./output/' + filename + '_translated.docx'\n"
   ]
  },
  {
   "attachments": {},
   "cell_type": "markdown",
   "metadata": {},
   "source": [
    "## Data Prep"
   ]
  },
  {
   "cell_type": "code",
   "execution_count": null,
   "metadata": {},
   "outputs": [],
   "source": [
    "reader = PdfReader(source_pdf_input_path)\n",
    "number_of_pages = len(reader.pages)\n",
    "page = reader.pages[0]\n",
    "text = page.extract_text()"
   ]
  },
  {
   "cell_type": "code",
   "execution_count": null,
   "metadata": {},
   "outputs": [],
   "source": [
    "print(number_of_pages - 856)\n",
    "# Pulling pages 775 to 830"
   ]
  },
  {
   "cell_type": "code",
   "execution_count": null,
   "metadata": {},
   "outputs": [],
   "source": [
    "# Trying to extract the range into a text file\n",
    "select_range = list(range(775,831,1))\n",
    "\n",
    "long_text = ''\n",
    "\n",
    "for p in select_range:\n",
    "    page = reader.pages[p]\n",
    "    text = page.extract_text()\n",
    "    long_text = long_text + text\n",
    "    \n",
    "print(len(long_text))\n",
    "\n",
    "\n"
   ]
  },
  {
   "cell_type": "code",
   "execution_count": null,
   "metadata": {},
   "outputs": [],
   "source": [
    "# Write out to raw text\n",
    "# with open(source_text_output_path, 'w', encoding=\"utf-8\") as f:\n",
    "#     f.write(long_text)"
   ]
  },
  {
   "attachments": {},
   "cell_type": "markdown",
   "metadata": {},
   "source": [
    "## Translation"
   ]
  },
  {
   "cell_type": "code",
   "execution_count": 2,
   "metadata": {},
   "outputs": [
    {
     "name": "stdout",
     "output_type": "stream",
     "text": [
      "105090\n"
     ]
    }
   ],
   "source": [
    "# read raw text\n",
    "with open(source_text_output_path, 'r', encoding=\"utf-8\") as f:\n",
    "    long_text = f.read()\n",
    "print(len(long_text))\n"
   ]
  },
  {
   "cell_type": "code",
   "execution_count": 3,
   "metadata": {},
   "outputs": [
    {
     "name": "stdout",
     "output_type": "stream",
     "text": [
      "379\n"
     ]
    }
   ],
   "source": [
    "## step 1: convert raw text into sentences in a df\n",
    "from nltk.tokenize import sent_tokenize\n",
    "\n",
    "sentences_list = sent_tokenize(long_text)\n",
    "\n",
    "print(len(sentences_list))\n",
    "\n"
   ]
  },
  {
   "cell_type": "code",
   "execution_count": 4,
   "metadata": {},
   "outputs": [
    {
     "name": "stdout",
     "output_type": "stream",
     "text": [
     ]
    }
   ],
   "source": [
    "## establish a dataframe to store input and output\n",
    "trans_df = pd.DataFrame()\n",
    "trans_df['raw_nl'] = sentences_list\n",
    "\n",
    "print(trans_df.head())"
   ]
  },
  {
   "cell_type": "code",
   "execution_count": 5,
   "metadata": {},
   "outputs": [],
   "source": [
    "# import the library\n",
    "import googletrans\n",
    "from googletrans import Translator"
   ]
  },
  {
   "cell_type": "code",
   "execution_count": 9,
   "metadata": {},
   "outputs": [
    {
     "name": "stdout",
     "output_type": "stream",
     "text": [
      "THIRTEENTH MEETING .\n"
     ]
    }
   ],
   "source": [
    "# create a translator object\n",
    "translator = Translator()\n",
    "\n",
    "# use translate method to translate a string - by default, the destination language is english\n",
    "translated = translator.translate(trans_df['raw_nl'][0],\n",
    "                                  src='nl',\n",
    "                                  dest= 'en')\n",
    "\n",
    "# the translate method returns an object\n",
    "print(translated.text)"
   ]
  },
  {
   "cell_type": "code",
   "execution_count": 11,
   "metadata": {},
   "outputs": [
    {
     "name": "stdout",
     "output_type": "stream",
     "text": [
     ]
    }
   ],
   "source": [
    "## df style\n",
    "\n",
    "trans_df['trans_en'] = trans_df['raw_nl'].apply(lambda x: translator.translate(x,\n",
    "                                  src='nl',\n",
    "                                  dest= 'en').text)\n",
    "print(trans_df.head())"
   ]
  },
  {
   "cell_type": "code",
   "execution_count": 13,
   "metadata": {},
   "outputs": [],
   "source": [
    "## write out the table\n",
    "trans_df.to_csv(trans_table_output_path)"
   ]
  },
  {
   "cell_type": "code",
   "execution_count": 16,
   "metadata": {},
   "outputs": [],
   "source": [
    "## write out the translated text\n",
    "long_text_translated = ''.join(trans_df[\"trans_en\"])\n",
    "# Write out to raw text\n",
    "with open(trans_text_output_path, 'w', encoding=\"utf-8\") as f:\n",
    "    f.write(long_text_translated)\n"
   ]
  },
  {
   "cell_type": "code",
   "execution_count": 22,
   "metadata": {},
   "outputs": [],
   "source": [
    "## as word doc\n",
    "document = Document()\n",
    "document.add_heading(headername, level=1)\n",
    "document.add_paragraph(long_text_translated)\n",
    "\n",
    "document.save(trans_doc_output_path)"
   ]
  }
 ],
 "metadata": {
  "kernelspec": {
   "display_name": "Python 3.8.1 64-bit",
   "metadata": {
    "interpreter": {
     "hash": "e404b59586357c814bc0d3940e75d6763c00a48753b225b81f7716971b8e1741"
    }
   },
   "name": "python3"
  },
  "language_info": {
   "codemirror_mode": {
    "name": "ipython",
    "version": 3
   },
   "file_extension": ".py",
   "mimetype": "text/x-python",
   "name": "python",
   "nbconvert_exporter": "python",
   "pygments_lexer": "ipython3",
   "version": "3.11.3"
  },
  "orig_nbformat": 2
 },
 "nbformat": 4,
 "nbformat_minor": 2
}

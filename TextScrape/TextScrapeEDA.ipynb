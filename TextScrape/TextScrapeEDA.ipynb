{
 "cells": [
  {
   "attachments": {},
   "cell_type": "markdown",
   "metadata": {},
   "source": [
    "## Test Scrape Notebook"
   ]
  },
  {
   "cell_type": "code",
   "execution_count": 63,
   "metadata": {},
   "outputs": [],
   "source": [
    "## Import library as establish paths\n",
    "from pypdf import PdfReader\n",
    "import translators as ts\n",
    "import pandas as pd\n",
    "import nltk\n",
    "from docx import Document\n",
    "\n",
    "\n",
    "headername = r\"Reinier_OldenBarnevelt\"\n",
    "\n",
    "# Reinier_oldenbarnevelt is a jpg. more processing to do here\n",
    "\n",
    "filename = 'Reinier_oldenbarnevelt'\n",
    "\n",
    "first_page = 1\n",
    "last_page = 1\n",
    "\n",
    "source_jpg_input_path = r'./input/' + filename + r'.jpg'\n",
    "source_pdf_input_path = r'./input/' + filename + r'.pdf'\n",
    "source_text_output_path = r'./output/' + filename + '_nntlLTSM.txt'\n",
    "trans_table_output_path = r'./output/' + filename + '_translation_nntlLTSM.csv'\n",
    "trans_text_output_path = r'./output/' + filename + '_translated_nntlLTSM.txt'\n",
    "trans_doc_output_path = r'./output/' + filename + '_translated_nntlLTSM.docx'\n"
   ]
  },
  {
   "cell_type": "markdown",
   "metadata": {},
   "source": [
    "## Renier's JPG"
   ]
  },
  {
   "cell_type": "code",
   "execution_count": 39,
   "metadata": {},
   "outputs": [
    {
     "name": "stdout",
     "output_type": "stream",
     "text": [
      "jpeg workflow engaged!\n"
     ]
    }
   ],
   "source": [
    "## for Renier's jpeg\n",
    "# text recognition\n",
    "import cv2\n",
    "import pytesseract\n",
    "\n",
    "# read image\n",
    "if filename == 'Reinier_oldenbarnevelt':\n",
    "    print('jpeg workflow engaged!')\n",
    "    img = cv2.imread(source_jpg_input_path)\n",
    "\n"
   ]
  },
  {
   "cell_type": "code",
   "execution_count": 3,
   "metadata": {},
   "outputs": [],
   "source": [
    "## config tesseract\n",
    "pytesseract.pytesseract.tesseract_cmd = r'C:\\Program Files\\Tesseract-OCR\\tesseract.exe'"
   ]
  },
  {
   "cell_type": "code",
   "execution_count": 27,
   "metadata": {},
   "outputs": [],
   "source": [
    "## optional: gauss the image first\n",
    "# img = cv2.resize(img, None, fx=2, fy=2, interpolation=cv2.INTER_CUBIC)\n",
    "# img = cv2.GaussianBlur(img, (5, 5), 0)"
   ]
  },
  {
   "cell_type": "code",
   "execution_count": 64,
   "metadata": {},
   "outputs": [
    {
     "name": "stdout",
     "output_type": "stream",
     "text": [
      "scraping text from jpg...\n"
     ]
    }
   ],
   "source": [
    "if filename == 'Reinier_oldenbarnevelt':\n",
    "    # configurations\n",
    "    # config = ('-l deu_latf --oem 1 --psm 1')\n",
    "    # config = ('-l frk --oem 1 --psm 1')\n",
    "    config = ('-l ntl --oem 1 --psm 1')\n",
    "    print(\"scraping text from jpg...\")\n",
    "    text = pytesseract.image_to_string(img, config=config)\n",
    "\n",
    "    # print text\n",
    "    text = text.split()\n",
    "\n",
    " \n",
    "    print(text)"
   ]
  },
  {
   "cell_type": "code",
   "execution_count": 53,
   "metadata": {},
   "outputs": [],
   "source": [
    "if filename == 'Reinier_oldenbarnevelt':\n",
    "    # Write out to raw text\n",
    "    long_text = \" \".join(text)\n",
    "\n",
    "    with open(source_text_output_path, 'w', encoding=\"utf-8\") as f:\n",
    "        f.write(long_text)"
   ]
  },
  {
   "cell_type": "code",
   "execution_count": null,
   "metadata": {},
   "outputs": [],
   "source": []
  },
  {
   "attachments": {},
   "cell_type": "markdown",
   "metadata": {},
   "source": [
    "## Data Prep"
   ]
  },
  {
   "cell_type": "code",
   "execution_count": null,
   "metadata": {},
   "outputs": [],
   "source": [
    "if filename != 'Reinier_oldenbarnevelt':\n",
    "    reader = PdfReader(source_pdf_input_path)\n",
    "    number_of_pages = len(reader.pages)\n",
    "    page = reader.pages[0]\n",
    "    text = page.extract_text()"
   ]
  },
  {
   "cell_type": "code",
   "execution_count": null,
   "metadata": {},
   "outputs": [],
   "source": [
    "if filename != 'Reinier_oldenbarnevelt':\n",
    "    print(number_of_pages - 856)\n",
    "# Pulling pages 775 to 830"
   ]
  },
  {
   "cell_type": "code",
   "execution_count": null,
   "metadata": {},
   "outputs": [],
   "source": [
    "if filename != 'Reinier_oldenbarnevelt':\n",
    "    # Trying to extract the range into a text file\n",
    "    select_range = list(range(first_page,last_page,1))\n",
    "\n",
    "    long_text = ''\n",
    "\n",
    "    for p in select_range:\n",
    "        page = reader.pages[p]\n",
    "        text = page.extract_text()\n",
    "        long_text = long_text + text\n",
    "        \n",
    "    print(len(long_text))"
   ]
  },
  {
   "cell_type": "code",
   "execution_count": null,
   "metadata": {},
   "outputs": [],
   "source": [
    "if filename != 'Reinier_oldenbarnevelt':\n",
    "    # Write out to raw text\n",
    "    with open(source_text_output_path, 'w', encoding=\"utf-8\") as f:\n",
    "        f.write(long_text)"
   ]
  },
  {
   "attachments": {},
   "cell_type": "markdown",
   "metadata": {},
   "source": [
    "## Translation"
   ]
  },
  {
   "cell_type": "code",
   "execution_count": 54,
   "metadata": {},
   "outputs": [
    {
     "name": "stdout",
     "output_type": "stream",
     "text": [
      "5107\n"
     ]
    }
   ],
   "source": [
    "# read raw text\n",
    "with open(source_text_output_path, 'r', encoding=\"utf-8\") as f:\n",
    "    long_text = f.read()\n",
    "print(len(long_text))\n"
   ]
  },
  {
   "cell_type": "code",
   "execution_count": 55,
   "metadata": {},
   "outputs": [
    {
     "name": "stdout",
     "output_type": "stream",
     "text": [
      "24\n"
     ]
    }
   ],
   "source": [
    "## step 1: convert raw text into sentences in a df\n",
    "from nltk.tokenize import sent_tokenize\n",
    "\n",
    "sentences_list = sent_tokenize(long_text)\n",
    "\n",
    "print(len(sentences_list))\n",
    "\n"
   ]
  },
  {
   "cell_type": "code",
   "execution_count": 56,
   "metadata": {},
   "outputs": [
    {
     "name": "stdout",
     "output_type": "stream",
     "text": [
      "                                              raw_nl\n",
      "0   k STIERT AAENTAITIGET EI REDERTIN NWOORDERS DiE.\n",
      "1  GENSTYCERT 11 DER DRIiE, SRS ann | LIESE ek KA...\n",
      "2  NE DN <E WUaerachtichverhael/ vantghenein de E...\n",
      "3  wi Lſgotat Welſtant vaiteen goede Bepu- „CA bl...\n",
      "4                             metgröate reverentien.\n"
     ]
    }
   ],
   "source": [
    "## establish a dataframe to store input and output\n",
    "trans_df = pd.DataFrame()\n",
    "trans_df['raw_nl'] = sentences_list\n",
    "\n",
    "print(trans_df.head())"
   ]
  },
  {
   "cell_type": "code",
   "execution_count": 57,
   "metadata": {},
   "outputs": [],
   "source": [
    "# import the library\n",
    "import googletrans\n",
    "from googletrans import Translator"
   ]
  },
  {
   "cell_type": "code",
   "execution_count": 58,
   "metadata": {},
   "outputs": [
    {
     "name": "stdout",
     "output_type": "stream",
     "text": [
      "k BULLET AAENTAITIGET EI REDERTIN NWOORDERS Die.\n"
     ]
    }
   ],
   "source": [
    "# create a translator object\n",
    "translator = Translator()\n",
    "\n",
    "# use translate method to translate a string - by default, the destination language is english\n",
    "translated = translator.translate(trans_df['raw_nl'][0],\n",
    "                                  src='nl',\n",
    "                                  dest= 'en')\n",
    "\n",
    "# the translate method returns an object\n",
    "print(translated.text)"
   ]
  },
  {
   "cell_type": "code",
   "execution_count": 59,
   "metadata": {},
   "outputs": [
    {
     "name": "stdout",
     "output_type": "stream",
     "text": [
      "                                              raw_nl  \\\n",
      "0   k STIERT AAENTAITIGET EI REDERTIN NWOORDERS DiE.   \n",
      "1  GENSTYCERT 11 DER DRIiE, SRS ann | LIESE ek KA...   \n",
      "2  NE DN <E WUaerachtichverhael/ vantghenein de E...   \n",
      "3  wi Lſgotat Welſtant vaiteen goede Bepu- „CA bl...   \n",
      "4                             metgröate reverentien.   \n",
      "\n",
      "                                            trans_en  \n",
      "0   k BULLET AAENTAITIGET EI REDERTIN NWOORDERS Die.  \n",
      "1  GENSTYCERT 11 DER DRIiE, SRS ann | LIESE ek KA...  \n",
      "2  NE DN <E WUaerachtichverhael/ vantghenein the ...  \n",
      "3  wi Lſgotat Welſtant vaiteen good Bepu- „CA bli...  \n",
      "4                             with size reverentien.  \n"
     ]
    }
   ],
   "source": [
    "## df style\n",
    "\n",
    "trans_df['trans_en'] = trans_df['raw_nl'].apply(lambda x: translator.translate(x,\n",
    "                                  src='nl',\n",
    "                                  dest= 'en').text)\n",
    "print(trans_df.head())"
   ]
  },
  {
   "cell_type": "code",
   "execution_count": 60,
   "metadata": {},
   "outputs": [],
   "source": [
    "## write out the table\n",
    "# trans_df.to_csv(trans_table_output_path)"
   ]
  },
  {
   "cell_type": "code",
   "execution_count": 61,
   "metadata": {},
   "outputs": [],
   "source": [
    "## write out the translated text\n",
    "long_text_translated = ''.join(trans_df[\"trans_en\"])\n",
    "# Write out to raw text\n",
    "# with open(trans_text_output_path, 'w', encoding=\"utf-8\") as f:\n",
    "    # f.write(long_text_translated)\n"
   ]
  },
  {
   "cell_type": "code",
   "execution_count": 62,
   "metadata": {},
   "outputs": [],
   "source": [
    "## as word doc\n",
    "document = Document()\n",
    "document.add_heading(headername, level=1)\n",
    "document.add_paragraph(long_text_translated)\n",
    "\n",
    "document.save(trans_doc_output_path)"
   ]
  }
 ],
 "metadata": {
  "kernelspec": {
   "display_name": "Python 3.8.1 64-bit",
   "metadata": {
    "interpreter": {
     "hash": "e404b59586357c814bc0d3940e75d6763c00a48753b225b81f7716971b8e1741"
    }
   },
   "name": "python3"
  },
  "language_info": {
   "codemirror_mode": {
    "name": "ipython",
    "version": 3
   },
   "file_extension": ".py",
   "mimetype": "text/x-python",
   "name": "python",
   "nbconvert_exporter": "python",
   "pygments_lexer": "ipython3",
   "version": "3.11.3"
  },
  "orig_nbformat": 2
 },
 "nbformat": 4,
 "nbformat_minor": 2
}
